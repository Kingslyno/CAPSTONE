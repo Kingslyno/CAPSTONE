{
 "cells": [
  {
   "cell_type": "code",
   "execution_count": 14,
   "id": "2eb6a4d7-17eb-4d14-93ca-76e70a0152a8",
   "metadata": {},
   "outputs": [
    {
     "name": "stdout",
     "output_type": "stream",
     "text": [
      "Initial Data Information:\n",
      "<class 'pandas.core.frame.DataFrame'>\n",
      "RangeIndex: 17 entries, 0 to 16\n",
      "Data columns (total 18 columns):\n",
      " #   Column              Non-Null Count  Dtype         \n",
      "---  ------              --------------  -----         \n",
      " 0   Customer ID         17 non-null     object        \n",
      " 1   First Name          17 non-null     object        \n",
      " 2   Last Name           17 non-null     object        \n",
      " 3   Address             15 non-null     object        \n",
      " 4   Email Address       14 non-null     object        \n",
      " 5   Book ID             17 non-null     object        \n",
      " 6   Title               17 non-null     object        \n",
      " 7   Author Full Name    17 non-null     object        \n",
      " 8   Publication Date    16 non-null     object        \n",
      " 9   Quantity Available  15 non-null     float64       \n",
      " 10  Order ID            16 non-null     object        \n",
      " 11  Customer ID.1       16 non-null     object        \n",
      " 12  Book ID.1           16 non-null     object        \n",
      " 13  Date Purchased      16 non-null     datetime64[ns]\n",
      " 14  Amount Paid         16 non-null     object        \n",
      " 15  Quantity            15 non-null     float64       \n",
      " 16  Order Status        15 non-null     object        \n",
      " 17  Shipping Address    15 non-null     object        \n",
      "dtypes: datetime64[ns](1), float64(2), object(15)\n",
      "memory usage: 2.5+ KB\n",
      "None\n"
     ]
    }
   ],
   "source": [
    "import pandas as pd\n",
    "\n",
    "# Load the dataset\n",
    "file_path = r'C:\\Users\\kings\\OneDrive\\Desktop\\NXU\\Class\\BAN6800\\Uncleaned Merged dataset.xlsx'\n",
    "data = pd.read_excel(file_path)\n",
    "\n",
    "# Display initial data information\n",
    "print(\"Initial Data Information:\")\n",
    "print(data.info())"
   ]
  },
  {
   "cell_type": "code",
   "execution_count": 15,
   "id": "f1c13cb8-7256-4fb6-9df8-fc55b78f5af8",
   "metadata": {},
   "outputs": [],
   "source": [
    "# Step 1: Data Cleaning\n",
    "# Remove blank spaces in column names\n",
    "data.columns = data.columns.str.strip()\n",
    "\n"
   ]
  },
  {
   "cell_type": "code",
   "execution_count": 16,
   "id": "41c27351-f042-4f92-855f-8043e7ace2c8",
   "metadata": {},
   "outputs": [
    {
     "name": "stderr",
     "output_type": "stream",
     "text": [
      "C:\\Users\\kings\\AppData\\Local\\Temp\\ipykernel_14632\\1580230741.py:2: FutureWarning: DataFrame.fillna with 'method' is deprecated and will raise in a future version. Use obj.ffill() or obj.bfill() instead.\n",
      "  data.fillna(method='ffill', inplace=True)  # Forward fill for missing values\n"
     ]
    }
   ],
   "source": [
    "# Step 2: Handling Missing Values\n",
    "data.fillna(method='ffill', inplace=True)  # Forward fill for missing values\n",
    "\n"
   ]
  },
  {
   "cell_type": "code",
   "execution_count": 17,
   "id": "26bd26a5-d4e0-4345-b97b-c34145cbb92c",
   "metadata": {},
   "outputs": [
    {
     "name": "stderr",
     "output_type": "stream",
     "text": [
      "<>:3: SyntaxWarning: invalid escape sequence '\\$'\n",
      "<>:3: SyntaxWarning: invalid escape sequence '\\$'\n",
      "C:\\Users\\kings\\AppData\\Local\\Temp\\ipykernel_14632\\3955123635.py:3: SyntaxWarning: invalid escape sequence '\\$'\n",
      "  data['Amount Paid'] = data['Amount Paid'].replace({'\\$': '', ',': ''}, regex=True).astype(float)\n"
     ]
    }
   ],
   "source": [
    "# Step 3: Correcting Currency Errors\n",
    "# Assuming a column 'Price' exists with currency issues\n",
    "data['Amount Paid'] = data['Amount Paid'].replace({'\\$': '', ',': ''}, regex=True).astype(float)\n"
   ]
  },
  {
   "cell_type": "code",
   "execution_count": 18,
   "id": "7b5e3a15-254a-438b-b13e-0a7cb9f67073",
   "metadata": {},
   "outputs": [],
   "source": [
    "# Step 4: Feature Engineering\n",
    "# Creating a new feature 'Price per Unit'\n",
    "data['Amount Paid per Unit'] = data['Amount Paid'] / data['Quantity']\n"
   ]
  },
  {
   "cell_type": "code",
   "execution_count": 19,
   "id": "1cf6e6f5-0c6e-4911-a2e8-be2c5f0a65ab",
   "metadata": {},
   "outputs": [],
   "source": [
    "\n",
    "# Step 5: Data Integrity Check\n",
    "# Check for duplicates\n",
    "duplicates = data.duplicated().sum()\n",
    "if duplicates > 0:\n",
    "    data.drop_duplicates(inplace=True)\n",
    "\n"
   ]
  },
  {
   "cell_type": "code",
   "execution_count": 20,
   "id": "cc7ce9f4-25b5-4742-8dde-8e8c6d5419fc",
   "metadata": {},
   "outputs": [],
   "source": [
    "# Step 6: Data Quality Assessment\n",
    "# Assessing data types and converting if necessary\n",
    "data['Date Purchased'] = pd.to_datetime(data['Date Purchased'], errors='coerce')\n",
    "\n",
    "\n",
    "\n"
   ]
  },
  {
   "cell_type": "code",
   "execution_count": 21,
   "id": "1bcd52d8-d86a-4f1c-8336-62ff4b6229df",
   "metadata": {},
   "outputs": [
    {
     "name": "stdout",
     "output_type": "stream",
     "text": [
      "Data cleaning and transformation completed. Cleaned dataset saved as CSV.\n"
     ]
    }
   ],
   "source": [
    "# Step 7: Save the cleaned dataset to CSV\n",
    "cleaned_file_path = r\"C:\\Users\\kings\\OneDrive\\Desktop\\NXU\\Class\\BAN6800\\Clean_dataset.csv\"\n",
    "data.to_csv(cleaned_file_path, index=False)\n",
    "\n",
    "print(\"Data cleaning and transformation completed. Cleaned dataset saved as CSV.\")\n",
    "\n"
   ]
  },
  {
   "cell_type": "code",
   "execution_count": null,
   "id": "ce5fd90f-bb44-46dc-b4cb-4f369e954892",
   "metadata": {},
   "outputs": [],
   "source": []
  }
 ],
 "metadata": {
  "kernelspec": {
   "display_name": "Python 3 (ipykernel)",
   "language": "python",
   "name": "python3"
  },
  "language_info": {
   "codemirror_mode": {
    "name": "ipython",
    "version": 3
   },
   "file_extension": ".py",
   "mimetype": "text/x-python",
   "name": "python",
   "nbconvert_exporter": "python",
   "pygments_lexer": "ipython3",
   "version": "3.12.4"
  }
 },
 "nbformat": 4,
 "nbformat_minor": 5
}
